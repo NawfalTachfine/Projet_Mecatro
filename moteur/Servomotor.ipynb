{
 "cells": [
  {
   "cell_type": "code",
   "execution_count": 10,
   "metadata": {
    "collapsed": false
   },
   "outputs": [
    {
     "name": "stdout",
     "output_type": "stream",
     "text": [
      "Scanning Dynamixel network...  Done.\n",
      "Detected Dynamixel ids :  4\n"
     ]
    }
   ],
   "source": [
    "import os, dynamixel, time, random\n",
    "import sys\n",
    "from serial import Serial\n",
    "\n",
    "# The number of Dynamixels on our bus.\n",
    "nServos = 11\n",
    "\n",
    "# Set your serial port accordingly.\n",
    "if os.name == \"posix\":\n",
    "    portName = \"/dev/ttyUSB0\"\n",
    "else:\n",
    "    portName = \"COM5\"\n",
    "    \n",
    "# Default baud rate of the USB2Dynamixel device.\n",
    "baudRate = 1000000\n",
    "\n",
    "serial = dynamixel.SerialStream( port=portName, baudrate=baudRate, timeout=1)\n",
    "net = dynamixel.DynamixelNetwork( serial )\n",
    "\n",
    "print(\"Scanning Dynamixel network...\"),\n",
    "sys.stdout.flush()\n",
    "\n",
    "net.scan( 1, nServos )\n",
    "print(\" Done.\")\n",
    "\n",
    "myActuators = list()\n",
    "\n",
    "print \"Detected Dynamixel ids : \",\n",
    "for dyn in net.get_dynamixels():\n",
    "    print dyn.id,\n",
    "    myActuators.append(dyn)\n",
    "print"
   ]
  },
  {
   "cell_type": "code",
   "execution_count": 11,
   "metadata": {
    "collapsed": true
   },
   "outputs": [],
   "source": [
    "for actuator in myActuators:\n",
    "    actuator.moving_speed = 255\n",
    "    actuator.synchronized = True\n",
    "    actuator.torque_enable = True\n",
    "    actuator.torque_limit = 800\n",
    "    actuator.max_torque = 800"
   ]
  },
  {
   "cell_type": "code",
   "execution_count": 16,
   "metadata": {
    "collapsed": false
   },
   "outputs": [
    {
     "ename": "TypeError",
     "evalue": "unsupported operand type(s) for &: 'float' and 'int'",
     "output_type": "error",
     "traceback": [
      "\u001b[0;31m---------------------------------------------------------------------------\u001b[0m",
      "\u001b[0;31mTypeError\u001b[0m                                 Traceback (most recent call last)",
      "\u001b[0;32m<ipython-input-16-cab586746f85>\u001b[0m in \u001b[0;36m<module>\u001b[0;34m()\u001b[0m\n\u001b[1;32m      1\u001b[0m \u001b[0mmyActuators\u001b[0m\u001b[1;33m[\u001b[0m\u001b[1;36m0\u001b[0m\u001b[1;33m]\u001b[0m\u001b[1;33m.\u001b[0m\u001b[0mgoal_position\u001b[0m\u001b[1;33m=\u001b[0m\u001b[1;36m102.5\u001b[0m\u001b[1;33m\u001b[0m\u001b[0m\n\u001b[1;32m      2\u001b[0m \u001b[1;34m\"myActuators[1].goal_position=0\"\u001b[0m\u001b[1;33m\u001b[0m\u001b[0m\n\u001b[0;32m----> 3\u001b[0;31m \u001b[0mnet\u001b[0m\u001b[1;33m.\u001b[0m\u001b[0msynchronize\u001b[0m\u001b[1;33m(\u001b[0m\u001b[1;33m)\u001b[0m\u001b[1;33m\u001b[0m\u001b[0m\n\u001b[0m",
      "\u001b[0;32mC:\\Users\\Samuel KRON\\Anaconda2\\lib\\site-packages\\dynamixel\\dynamixel_network.pyc\u001b[0m in \u001b[0;36msynchronize\u001b[0;34m(self)\u001b[0m\n\u001b[1;32m    612\u001b[0m                         \u001b[0mdata\u001b[0m \u001b[1;33m=\u001b[0m \u001b[1;33m[\u001b[0m\u001b[1;33m]\u001b[0m\u001b[1;33m\u001b[0m\u001b[0m\n\u001b[1;32m    613\u001b[0m                     \u001b[0mdata\u001b[0m\u001b[1;33m.\u001b[0m\u001b[0mappend\u001b[0m\u001b[1;33m(\u001b[0m\u001b[0mservo\u001b[0m\u001b[1;33m.\u001b[0m\u001b[0mid\u001b[0m\u001b[1;33m)\u001b[0m\u001b[1;33m\u001b[0m\u001b[0m\n\u001b[0;32m--> 614\u001b[0;31m                     \u001b[0mdata\u001b[0m\u001b[1;33m.\u001b[0m\u001b[0mappend\u001b[0m\u001b[1;33m(\u001b[0m\u001b[0mservo\u001b[0m\u001b[1;33m.\u001b[0m\u001b[0mgoal_position\u001b[0m \u001b[1;33m&\u001b[0m \u001b[1;36m0xFF\u001b[0m\u001b[1;33m)\u001b[0m\u001b[1;33m\u001b[0m\u001b[0m\n\u001b[0m\u001b[1;32m    615\u001b[0m                     \u001b[0mdata\u001b[0m\u001b[1;33m.\u001b[0m\u001b[0mappend\u001b[0m\u001b[1;33m(\u001b[0m\u001b[0mservo\u001b[0m\u001b[1;33m.\u001b[0m\u001b[0mgoal_position\u001b[0m \u001b[1;33m>>\u001b[0m \u001b[1;36m8\u001b[0m\u001b[1;33m)\u001b[0m\u001b[1;33m\u001b[0m\u001b[0m\n\u001b[1;32m    616\u001b[0m                     \u001b[0mdata\u001b[0m\u001b[1;33m.\u001b[0m\u001b[0mappend\u001b[0m\u001b[1;33m(\u001b[0m\u001b[0mservo\u001b[0m\u001b[1;33m.\u001b[0m\u001b[0mmoving_speed\u001b[0m \u001b[1;33m&\u001b[0m \u001b[1;36m0xFF\u001b[0m\u001b[1;33m)\u001b[0m\u001b[1;33m\u001b[0m\u001b[0m\n",
      "\u001b[0;31mTypeError\u001b[0m: unsupported operand type(s) for &: 'float' and 'int'"
     ]
    }
   ],
   "source": [
    "myActuators[0].goal_position=102\n",
    "\"myActuators[1].goal_position=0\"\n",
    "net.synchronize()\n"
   ]
  },
  {
   "cell_type": "code",
   "execution_count": null,
   "metadata": {
    "collapsed": true
   },
   "outputs": [],
   "source": [
    "while myActuators[0].goal_position<1023:\n",
    "    for actuator in myActuators:\n",
    "        actuator.goal_position = actuator.goal_position+17\n",
    "    net.synchronize()\n",
    "    for actuator in myActuators:\n",
    "        actuator.read_all()\n",
    "        time.sleep(0.01)\n",
    "    for actuator in myActuators:\n",
    "        #print actuator.cache[dynamixel.defs.REGISTER['Id']], actuator.cache[dynamixel.defs.REGISTER['CurrentPosition']]\n",
    "        print actuator.id, actuator.current_position\n",
    "    time.sleep(2)"
   ]
  },
  {
   "cell_type": "code",
   "execution_count": 9,
   "metadata": {
    "collapsed": true
   },
   "outputs": [],
   "source": [
    "serial.close()"
   ]
  }
 ],
 "metadata": {
  "kernelspec": {
   "display_name": "Python 2",
   "language": "python",
   "name": "python2"
  },
  "language_info": {
   "codemirror_mode": {
    "name": "ipython",
    "version": 2
   },
   "file_extension": ".py",
   "mimetype": "text/x-python",
   "name": "python",
   "nbconvert_exporter": "python",
   "pygments_lexer": "ipython2",
   "version": "2.7.13"
  }
 },
 "nbformat": 4,
 "nbformat_minor": 2
}
