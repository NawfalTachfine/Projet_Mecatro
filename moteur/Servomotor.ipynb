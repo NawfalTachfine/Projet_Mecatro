{
 "cells": [
  {
   "cell_type": "code",
   "execution_count": null,
   "metadata": {
    "collapsed": true
   },
   "outputs": [],
   "source": [
    "import os, dynamixel, time, random\n",
    "import sys\n",
    "from serial import Serial\n",
    "\n",
    "# The number of Dynamixels on our bus.\n",
    "nServos = 11\n",
    "\n",
    "# Set your serial port accordingly.\n",
    "if os.name == \"posix\":\n",
    "    portName = \"/dev/ttyUSB0\"\n",
    "else:\n",
    "    portName = \"COM5\"\n",
    "    \n",
    "# Default baud rate of the USB2Dynamixel device.\n",
    "baudRate = 1000000\n",
    "\n",
    "serial = dynamixel.SerialStream( port=portName, baudrate=baudRate, timeout=1)\n",
    "net = dynamixel.DynamixelNetwork( serial )\n",
    "\n",
    "print(\"Scanning Dynamixel network...\"),\n",
    "sys.stdout.flush()\n",
    "\n",
    "net.scan( 1, nServos )\n",
    "print(\" Done.\")\n",
    "\n",
    "myActuators = list()\n",
    "\n",
    "print \"Detected Dynamixel ids : \",\n",
    "for dyn in net.get_dynamixels():\n",
    "    print dyn.id,\n",
    "    myActuators.append(dyn)\n",
    "print"
   ]
  },
  {
   "cell_type": "code",
   "execution_count": null,
   "metadata": {
    "collapsed": true
   },
   "outputs": [],
   "source": [
    "for actuator in myActuators:\n",
    "    actuator.moving_speed = 255\n",
    "    actuator.synchronized = True\n",
    "    actuator.torque_enable = True\n",
    "    actuator.torque_limit = 800\n",
    "    actuator.max_torque = 800"
   ]
  },
  {
   "cell_type": "code",
   "execution_count": null,
   "metadata": {
    "collapsed": true
   },
   "outputs": [],
   "source": [
    "myActuators[0].goal_position=550\n",
    "myActuators[1].goal_position=330\n",
    "net.synchronize()\n"
   ]
  },
  {
   "cell_type": "code",
   "execution_count": null,
   "metadata": {
    "collapsed": true
   },
   "outputs": [],
   "source": [
    "while myActuators[0].goal_position<1023:\n",
    "    for actuator in myActuators:\n",
    "        actuator.goal_position = actuator.goal_position+17\n",
    "    net.synchronize()\n",
    "    for actuator in myActuators:\n",
    "        actuator.read_all()\n",
    "        time.sleep(0.01)\n",
    "    for actuator in myActuators:\n",
    "        #print actuator.cache[dynamixel.defs.REGISTER['Id']], actuator.cache[dynamixel.defs.REGISTER['CurrentPosition']]\n",
    "        print actuator.id, actuator.current_position\n",
    "    time.sleep(2)"
   ]
  },
  {
   "cell_type": "code",
   "execution_count": null,
   "metadata": {
    "collapsed": true
   },
   "outputs": [],
   "source": [
    "serial.close()"
   ]
  }
 ],
 "metadata": {
  "kernelspec": {
   "display_name": "Python 2",
   "language": "python",
   "name": "python2"
  },
  "language_info": {
   "codemirror_mode": {
    "name": "ipython",
    "version": 2
   },
   "file_extension": ".py",
   "mimetype": "text/x-python",
   "name": "python",
   "nbconvert_exporter": "python",
   "pygments_lexer": "ipython2",
   "version": "2.7.13"
  }
 },
 "nbformat": 4,
 "nbformat_minor": 2
}
