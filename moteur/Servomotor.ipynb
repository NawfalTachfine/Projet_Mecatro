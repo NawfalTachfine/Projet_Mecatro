{
 "cells": [
  {
   "cell_type": "code",
   "execution_count": 213,
   "metadata": {
    "collapsed": false
   },
   "outputs": [
    {
     "name": "stdout",
     "output_type": "stream",
     "text": [
      "Scanning Dynamixel network...  Done.\n",
      "Detected Dynamixel ids :  7\n"
     ]
    }
   ],
   "source": [
    "import os, dynamixel, time, random\n",
    "import sys\n",
    "from serial import Serial\n",
    "\n",
    "# The number of Dynamixels on our bus.\n",
    "nServos = 11\n",
    "\n",
    "# Set your serial port accordingly.\n",
    "if os.name == \"posix\":\n",
    "    portName = \"/dev/ttyUSB0\"\n",
    "else:\n",
    "    portName = \"COM5\"\n",
    "    \n",
    "# Default baud rate of the USB2Dynamixel device.\n",
    "baudRate = 1000000\n",
    "\n",
    "serial = dynamixel.SerialStream( port=portName, baudrate=baudRate, timeout=1)\n",
    "net = dynamixel.DynamixelNetwork( serial )\n",
    "\n",
    "print(\"Scanning Dynamixel network...\"),\n",
    "sys.stdout.flush()\n",
    "\n",
    "net.scan( 1, nServos )\n",
    "print(\" Done.\")\n",
    "\n",
    "myActuators = list()\n",
    "\n",
    "print \"Detected Dynamixel ids : \",\n",
    "for dyn in net.get_dynamixels():\n",
    "    print dyn.id,\n",
    "    myActuators.append(dyn)\n",
    "print"
   ]
  },
  {
   "cell_type": "code",
   "execution_count": 226,
   "metadata": {
    "collapsed": false
   },
   "outputs": [
    {
     "name": "stdout",
     "output_type": "stream",
     "text": [
      "\n"
     ]
    }
   ],
   "source": [
    "for actuator in myActuators:\n",
    "    actuator.moving_speed = 150\n",
    "    actuator.synchronized = True\n",
    "    actuator.torque_enable = True\n",
    "    actuator.torque_limit = 800\n",
    "    actuator.max_torque = 800"
   ]
  },
  {
   "cell_type": "code",
   "execution_count": 242,
   "metadata": {
    "collapsed": false
   },
   "outputs": [],
   "source": [
    "myActuators[0].goal_position=0\n",
    "\"myActuators[1].goal_position=0\"\n",
    "net.synchronize()\n"
   ]
  },
  {
   "cell_type": "code",
   "execution_count": 243,
   "metadata": {
    "collapsed": false
   },
   "outputs": [
    {
     "name": "stdout",
     "output_type": "stream",
     "text": [
      "erreur 120 119\n",
      "erreur 152 153\n",
      "erreur 169 170\n",
      "erreur 220 221\n",
      "erreur 237 238\n",
      "erreur 254 255\n",
      "erreur 271 272\n",
      "erreur 288 289\n",
      "erreur 358 357\n",
      "erreur 458 459\n",
      "erreur 475 476\n",
      "erreur 543 544\n",
      "erreur 559 561\n",
      "erreur 628 629\n",
      "37 14\n"
     ]
    }
   ],
   "source": [
    "flag = 0\n",
    "decompte = 0\n",
    "erreur = 0\n",
    "while myActuators[0].goal_position<614 and flag == 0:\n",
    "    decompte = decompte + 1\n",
    "    for actuator in myActuators:\n",
    "        actuator.goal_position = actuator.goal_position+17\n",
    "    net.synchronize()\n",
    "    for actuator in myActuators:\n",
    "        actuator.read_all()\n",
    "        time.sleep(0.01)\n",
    "    for actuator in myActuators:\n",
    "        #print actuator.cache[dynamixel.defs.REGISTER['Id']], actuator.cache[dynamixel.defs.REGISTER['CurrentPosition']]\n",
    "        \"print actuator.id, actuator.current_position, actuator.goal_position\"\n",
    "        if actuator.current_position == actuator.goal_position:\n",
    "            flag = 1\n",
    "    time.sleep(0.5)\n",
    "    if actuator.current_position != actuator.goal_position:\n",
    "        print \"erreur\", actuator.current_position, actuator.goal_position\n",
    "        erreur = erreur + 1\n",
    "print decompte, erreur"
   ]
  },
  {
   "cell_type": "code",
   "execution_count": 212,
   "metadata": {
    "collapsed": false
   },
   "outputs": [],
   "source": [
    "serial.close()\n"
   ]
  },
  {
   "cell_type": "code",
   "execution_count": 210,
   "metadata": {
    "collapsed": false
   },
   "outputs": [],
   "source": [
    "import os, dynamixel, time, random\n",
    "import sys\n",
    "from serial import Serial\n",
    "\n",
    "class Moteurs(object):\n",
    "    def _init_(self):\n",
    "        # The number of Dynamixels on our bus.\n",
    "        nServos = 3\n",
    "        # Set your serial port accordingly.\n",
    "        if os.name == \"posix\":\n",
    "            portName = \"/dev/ttyUSB0\"\n",
    "        else:\n",
    "            portName = \"COM5\"\n",
    "    \n",
    "        # Default baud rate of the USB2Dynamixel device.\n",
    "        baudRate = 1000000\n",
    "        \n",
    "        self.serial = dynamixel.SerialStream( port=portName, baudrate=baudRate, timeout=1)\n",
    "        self.net = dynamixel.DynamixelNetwork( self.serial )\n",
    "        \n",
    "        sys.stdout.flush()\n",
    "        \n",
    "        self.net.scan( 1, nServos )\n",
    "        myActuators = list()\n",
    "\n",
    "        for dyn in self.net.get_dynamixels():\n",
    "            myActuators.append(dyn)\n",
    "        self.Moteurs=myActuators\n",
    "        return self\n",
    "    \n",
    "    def conversion_angle_interval( theta ):\n",
    "        \"\"\" Take an angle and convert it into a cervomotor interval \"\"\"\n",
    "        minimum_angle = 300 / 1024 #equivalent in ° of a motor interval\n",
    "        targeted_interval = round (theta / minimum_angle) #interger equivalent of the targeted angle in motor interval\n",
    "        return targeted_interval\n",
    "        \n",
    "        \n",
    "        \n",
    "    def move_motor(self, ID, theta_f, V = 255):\n",
    "        \"\"\" Take a motor ID, an ordered angle and the motor speed and make it move \"\"\"\n",
    "        self.Moteurs.goal_position[ID] = conversion_angle_interval( theta_f )\n",
    "        residual_error = self.Moteurs.current_position - conversion_angle_interval (theta_f)\n",
    "    \n",
    "    def close(self):\n",
    "        self.serial.close()"
   ]
  },
  {
   "cell_type": "code",
   "execution_count": 224,
   "metadata": {
    "collapsed": false
   },
   "outputs": [
    {
     "name": "stdout",
     "output_type": "stream",
     "text": [
      "True\n"
     ]
    }
   ],
   "source": [
    "if 2 != 3:\n",
    "    print True"
   ]
  }
 ],
 "metadata": {
  "kernelspec": {
   "display_name": "Python 2",
   "language": "python",
   "name": "python2"
  },
  "language_info": {
   "codemirror_mode": {
    "name": "ipython",
    "version": 2
   },
   "file_extension": ".py",
   "mimetype": "text/x-python",
   "name": "python",
   "nbconvert_exporter": "python",
   "pygments_lexer": "ipython2",
   "version": "2.7.13"
  }
 },
 "nbformat": 4,
 "nbformat_minor": 2
}
